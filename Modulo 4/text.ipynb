{
 "cells": [
  {
   "cell_type": "code",
   "execution_count": null,
   "metadata": {},
   "outputs": [],
   "source": []
  },
  {
   "cell_type": "code",
   "execution_count": 19,
   "metadata": {},
   "outputs": [
    {
     "name": "stdout",
     "output_type": "stream",
     "text": [
      "['Interesting facts about the Moon', \"The Moon is Earth's only satellite\", 'There are several interesting facts about the Moon and how it affects life here on Earth.On average, the Moon moves 4cm away from the Earth every year', 'This yearly drift is not significant enough to cause immediate effects on Earth', 'The highest daylight temperature of the Moon is 127 C.']\n",
      "\n",
      "\n",
      "There are several interesting facts about the Moon and how it affects life here on Earth.On average, the Moon moves 4cm away from the Earth every year\n",
      "\n",
      "The highest daylight temperature of the Moon is 127 C.\n",
      "\n",
      "There are several interesting facts about the Moon and how it affects life here on Earth.On average, the Moon moves 4cm away from the Earth every year\n",
      "The highest daylight temperature of the Moon is 127 Celsius.\n"
     ]
    }
   ],
   "source": [
    "text = \"Interesting facts about the Moon. The Moon is Earth's only satellite. There are several interesting facts about the Moon and how it affects life here on Earth.On average, the Moon moves 4cm away from the Earth every year. This yearly drift is not significant enough to cause immediate effects on Earth. The highest daylight temperature of the Moon is 127 C.\"\n",
    "#Find all sentences\n",
    "sentences = text.split('. ')\n",
    "print(sentences)\n",
    "print('\\n')\n",
    "#Find all moon facts\n",
    "clues = ['average', 'temperature', 'distance']\n",
    "\n",
    "for sentence in sentences:\n",
    "    for clue in clues:\n",
    "        if clue in sentence:\n",
    "            print(sentence + '\\n')\n",
    "            break\n",
    "\n",
    "#Replace C for Celcius\n",
    "\n",
    "for sentence in sentences:\n",
    "    for clue in clues:\n",
    "        if clue in sentence:\n",
    "            print(sentence.replace(' C', ' Celsius'))\n",
    "            break\n",
    "\n",
    "\n"
   ]
  },
  {
   "cell_type": "code",
   "execution_count": 28,
   "metadata": {},
   "outputs": [
    {
     "name": "stdout",
     "output_type": "stream",
     "text": [
      "Gravity Facts About Moon\n",
      "__________________________________________________\n",
      "Planet name: Earth\n",
      "Gravity: 1.6199999999999999 m/s^2\n",
      "Name: Moon\n",
      " Gravity facts about Moon\n",
      "        __________________________________________________\n",
      "Planet name: Earth\n",
      "Gravity: 1.6199999999999999 m/s^2\n",
      "Name: Moon\n",
      " Gravity facts about Moon\n",
      "        __________________________________________________\n",
      "Planet name: Earth\n",
      "Gravity: 1.6199999999999999 m/s^2\n",
      "Name: Moon\n",
      "Gravity facts about Ganímedes\n",
      "______________________________________________\n",
      "Planet name: Marte \n",
      "Gravity: 1.4300000000000002 m/s^2\n",
      "Name: Ganímedes\n"
     ]
    }
   ],
   "source": [
    "# Data to work\n",
    "name = \"Moon\"\n",
    "gravity = 0.00162 # in kms\n",
    "planet = \"Earth\"\n",
    "\n",
    "# Creating a title\n",
    "title ='Gravity facts about '+ name\n",
    "print(title.title())\n",
    "\n",
    "#Creating a template\n",
    "facts = f\"\"\"{'_'*50}\n",
    "Planet name: {planet}\n",
    "Gravity: {gravity * 1000} m/s^2\n",
    "Name: {name}\"\"\"\n",
    "print(facts)\n",
    "\n",
    "#Combaining the two strinsg in one\n",
    "print(f\"\"\" {title}\n",
    "        {facts}\"\"\")\n",
    "\n",
    "#Template with new Data. Data is not overwrited\n",
    "planet = 'Marte '\n",
    "gravity  = 0.00143\n",
    "name = 'Ganímedes'\n",
    "print(f\"\"\" {title}\n",
    "        {facts}\"\"\")\n",
    "\n",
    "#Creation of the new template\n",
    "new_template = \"\"\"Gravity facts about {name}\n",
    "______________________________________________\n",
    "Planet name: {planet}\n",
    "Gravity: {gravity} m/s^2\n",
    "Name: {name}\"\"\"\n",
    "\n",
    "print(new_template.format(name=name, planet=planet, gravity=gravity*1000))"
   ]
  }
 ],
 "metadata": {
  "interpreter": {
   "hash": "b50034235ccfb4eb84e55d67286db12ffb1028219bdd46ab7e58dc53c0598faa"
  },
  "kernelspec": {
   "display_name": "Python 3.10.2 64-bit",
   "language": "python",
   "name": "python3"
  },
  "language_info": {
   "codemirror_mode": {
    "name": "ipython",
    "version": 3
   },
   "file_extension": ".py",
   "mimetype": "text/x-python",
   "name": "python",
   "nbconvert_exporter": "python",
   "pygments_lexer": "ipython3",
   "version": "3.10.2"
  },
  "orig_nbformat": 4
 },
 "nbformat": 4,
 "nbformat_minor": 2
}
