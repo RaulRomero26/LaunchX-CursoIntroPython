{
 "cells": [
  {
   "cell_type": "code",
   "execution_count": null,
   "metadata": {},
   "outputs": [],
   "source": []
  },
  {
   "cell_type": "markdown",
   "metadata": {},
   "source": [
    "# List of planets\n"
   ]
  },
  {
   "cell_type": "code",
   "execution_count": 8,
   "metadata": {},
   "outputs": [
    {
     "name": "stdout",
     "output_type": "stream",
     "text": [
      "There are 8 planets in the solas system\n",
      "There are 9 planets in the solas system\n",
      "Pluto\n"
     ]
    }
   ],
   "source": [
    "planets = ['Mercury', 'Venus', 'Earth', 'Mars', 'Jupiter', 'Saturn', 'Uranus', 'Neptune']\n",
    "print(f\"\"\"There are {len(planets)} planets in the solas system\"\"\")\n",
    "planets.append('Pluto')\n",
    "print(f\"\"\"There are {len(planets)} planets in the solas system\"\"\")\n",
    "print(planets[-1])"
   ]
  },
  {
   "cell_type": "code",
   "execution_count": 19,
   "metadata": {},
   "outputs": [
    {
     "name": "stdout",
     "output_type": "stream",
     "text": [
      "Planet found, the number of Earth is 3\n",
      "The planets closer to the sun than Earth are: ['Mercury', 'Venus']\n",
      "The planets farthest from the sun than Earth are: ['Mars', 'Jupiter', 'Saturn', 'Uranus', 'Neptune']\n"
     ]
    }
   ],
   "source": [
    "#List of planets\n",
    "planets = ['Mercury', 'Venus', 'Earth', 'Mars', 'Jupiter', 'Saturn', 'Uranus' ,'Neptune']\n",
    "planet = input(\"Please give me a planet name to search\")\n",
    "try:\n",
    "    index = planets.index(planet)\n",
    "    print(f\"\"\"Planet found, the number of {planet} is {index+1}\"\"\")\n",
    "    #planets closer to the sun\n",
    "    print(f\"\"\"The planets closer to the sun than {planet} are: {planets[0:index]}\"\"\")\n",
    "    print(f\"\"\"The planets farthest from the sun than {planet} are: {planets[index+1:]}\"\"\")\n",
    "except Exception:\n",
    "    print(f\"\"\"The planet {planet} is'n in the Solar System\"\"\")\n",
    "\n"
   ]
  }
 ],
 "metadata": {
  "interpreter": {
   "hash": "cd5ca8e5e0da985d6cf8942ada3b2dc68de55ff908a52f0935c2b302476f5040"
  },
  "kernelspec": {
   "display_name": "Python 3.10.2 64-bit (windows store)",
   "language": "python",
   "name": "python3"
  },
  "language_info": {
   "codemirror_mode": {
    "name": "ipython",
    "version": 3
   },
   "file_extension": ".py",
   "mimetype": "text/x-python",
   "name": "python",
   "nbconvert_exporter": "python",
   "pygments_lexer": "ipython3",
   "version": "3.10.2"
  },
  "orig_nbformat": 4
 },
 "nbformat": 4,
 "nbformat_minor": 2
}
