{
 "cells": [
  {
   "cell_type": "code",
   "execution_count": null,
   "metadata": {},
   "outputs": [],
   "source": []
  },
  {
   "cell_type": "markdown",
   "metadata": {},
   "source": [
    "# Distance between planets"
   ]
  },
  {
   "cell_type": "code",
   "execution_count": 8,
   "metadata": {},
   "outputs": [
    {
     "name": "stdout",
     "output_type": "stream",
     "text": [
      "The distance between the Earth and Jupiter is : 628949330 km and 390577534 \n",
      "miles\n"
     ]
    }
   ],
   "source": [
    "Earth = 149597870\n",
    "Jupiter = 778547200\n",
    "print(f\"\"\"The distance between the Earth and Jupiter is : {Jupiter - Earth} km and {round((Jupiter - Earth)*0.621)} \n",
    "miles\"\"\")"
   ]
  },
  {
   "cell_type": "markdown",
   "metadata": {},
   "source": [
    "# Inputs and abs values"
   ]
  },
  {
   "cell_type": "code",
   "execution_count": 12,
   "metadata": {},
   "outputs": [
    {
     "name": "stdout",
     "output_type": "stream",
     "text": [
      "The distance between planets is : 4386900000 km and 2724264900.0 \n",
      "miles\n"
     ]
    }
   ],
   "source": [
    "planet1 = input(\"Enter the distance from the sun to the first planet in KM: \")\n",
    "planet2 = input(\"Enter the distance from the sun to the first planet in KM: \")\n",
    "planet1 = int(planet1)\n",
    "planet2 = int(planet2)\n",
    "print(f\"\"\"The distance between planets is : {abs(planet1 - planet2)} km and {abs((planet1 - planet2)*0.621)} \n",
    "miles\"\"\")\n"
   ]
  }
 ],
 "metadata": {
  "interpreter": {
   "hash": "b50034235ccfb4eb84e55d67286db12ffb1028219bdd46ab7e58dc53c0598faa"
  },
  "kernelspec": {
   "display_name": "Python 3.10.2 64-bit",
   "language": "python",
   "name": "python3"
  },
  "language_info": {
   "codemirror_mode": {
    "name": "ipython",
    "version": 3
   },
   "file_extension": ".py",
   "mimetype": "text/x-python",
   "name": "python",
   "nbconvert_exporter": "python",
   "pygments_lexer": "ipython3",
   "version": "3.10.2"
  },
  "orig_nbformat": 4
 },
 "nbformat": 4,
 "nbformat_minor": 2
}
