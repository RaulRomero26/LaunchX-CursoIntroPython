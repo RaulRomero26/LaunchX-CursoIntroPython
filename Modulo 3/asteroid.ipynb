{
 "cells": [
  {
   "cell_type": "code",
   "execution_count": null,
   "metadata": {},
   "outputs": [],
   "source": []
  },
  {
   "cell_type": "code",
   "execution_count": 3,
   "metadata": {},
   "outputs": [
    {
     "name": "stdout",
     "output_type": "stream",
     "text": [
      "All ok, you can do your things\n"
     ]
    }
   ],
   "source": [
    "asteroidSpeed = 25\n",
    "if asteroidSpeed > 25:\n",
    "    print('Danger! An asteroid is coming to earth')\n",
    "else:\n",
    "    print('All ok, you can do your things')"
   ]
  },
  {
   "cell_type": "code",
   "execution_count": 6,
   "metadata": {},
   "outputs": [
    {
     "name": "stdout",
     "output_type": "stream",
     "text": [
      "Look up! is an asteroid!, you can see fire in the sky\n"
     ]
    }
   ],
   "source": [
    "asteroidSpeed = 22\n",
    "if asteroidSpeed >= 20:\n",
    "    print('Look up! is an asteroid!, you can see fire in the sky')\n",
    "else:\n",
    "    print('There is nothing to see')"
   ]
  },
  {
   "cell_type": "code",
   "execution_count": 14,
   "metadata": {},
   "outputs": [
    {
     "name": "stdout",
     "output_type": "stream",
     "text": [
      "There is nothing to look\n"
     ]
    }
   ],
   "source": [
    "asteroidSpeed = 5\n",
    "asteroidSize = 50\n",
    "if asteroidSpeed > 25 and asteroidSize > 25:\n",
    "    print('Danger! an asteroid is coming to Earth')\n",
    "elif asteroidSpeed >=20:\n",
    "    print('Look up! There is a magic light in the sky')\n",
    "elif asteroidSize < 25:\n",
    "    print('There is nothing to look')\n",
    "else:\n",
    "    print('There is nothing to look')"
   ]
  }
 ],
 "metadata": {
  "interpreter": {
   "hash": "cd5ca8e5e0da985d6cf8942ada3b2dc68de55ff908a52f0935c2b302476f5040"
  },
  "kernelspec": {
   "display_name": "Python 3.10.2 64-bit (windows store)",
   "language": "python",
   "name": "python3"
  },
  "language_info": {
   "codemirror_mode": {
    "name": "ipython",
    "version": 3
   },
   "file_extension": ".py",
   "mimetype": "text/x-python",
   "name": "python",
   "nbconvert_exporter": "python",
   "pygments_lexer": "ipython3",
   "version": "3.10.2"
  },
  "orig_nbformat": 4
 },
 "nbformat": 4,
 "nbformat_minor": 2
}
